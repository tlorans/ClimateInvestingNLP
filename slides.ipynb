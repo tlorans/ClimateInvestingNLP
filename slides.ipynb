{
 "cells": [
  {
   "cell_type": "markdown",
   "id": "67855190",
   "metadata": {
    "slideshow": {
     "slide_type": "slide"
    }
   },
   "source": [
    "# Investigating the Transition Dimension in Climate Investing with Natural Language Processing"
   ]
  },
  {
   "cell_type": "markdown",
   "id": "e78b9790",
   "metadata": {
    "slideshow": {
     "slide_type": "slide"
    }
   },
   "source": [
    "## Financing the Transition: the Hidden Dimension in Paris-Aligned Benchmarks\n",
    "\n",
    "Investors mainly focus on portfolio decarbonization when speaking about climate investing\n",
    "\n",
    "Net zero investment portfolio more complex, because two goals:\n",
    "\n",
    "1. Decarbonizing the portfolio\n",
    "2. Financing the transition"
   ]
  },
  {
   "cell_type": "markdown",
   "id": "a64edb5c",
   "metadata": {
    "slideshow": {
     "slide_type": "slide"
    }
   },
   "source": [
    "PAB popular methodology in climate investing: falls short in incentivising the transition to a green economy: \n",
    "1. Under-weights high impact sectors (Energy, Materials, Utilites)\n",
    "2. Overweights Information Technology, Financials, Real Estate\n",
    "\n",
    "Clear decoupling between the real economy and PABs\n",
    "\n",
    "A portfolio contributing to transition will overweight green technologies"
   ]
  },
  {
   "cell_type": "markdown",
   "id": "7dbfd6d6",
   "metadata": {
    "slideshow": {
     "slide_type": "slide"
    }
   },
   "source": [
    "## Our Approach: a Text-Based Transition Investing Methodology\n",
    "\n",
    "We develop **a firm-level exposure to green activities measure with text mining**\n",
    "\n",
    "We consider the construction of **a transition portfolio** based on benchmark optimization"
   ]
  },
  {
   "cell_type": "markdown",
   "id": "a18c56f4",
   "metadata": {
    "slideshow": {
     "slide_type": "slide"
    }
   },
   "source": [
    "# A Green Taxonomy\n"
   ]
  },
  {
   "cell_type": "markdown",
   "id": "ecbcc812",
   "metadata": {
    "slideshow": {
     "slide_type": "slide"
    }
   },
   "source": [
    "## The EU Taxonomy\n",
    "\n",
    "EU Commission has introduced the **EU Taxonomy for sustainable economic activities**\n",
    "\n",
    "Activities are defined as green if they provide a contribution to a least one environmental objective\n",
    "\n",
    "The main drawback of this initiative is that **underlying data simply doesn't exist at the issuer level yet** "
   ]
  },
  {
   "cell_type": "markdown",
   "id": "1ce10a42",
   "metadata": {
    "slideshow": {
     "slide_type": "slide"
    }
   },
   "source": [
    "## Green, Brown or Mixed Taxonomy?\n",
    "\n",
    "Differentiating exposure to green, brown and neutral activities can be helpful for investors\n",
    "\n",
    "Green taxonomy: identify more striclty green activities\n",
    "\n",
    "Brown taxonomy: promote **exclusion strategies** from brown activities\n",
    "\n",
    "**Mixed taxonomy** would **combined both green and brown taxonomies**, with neutral activities identified as the remaining ones\n"
   ]
  },
  {
   "cell_type": "markdown",
   "id": "fcc6b6cb",
   "metadata": {
    "slideshow": {
     "slide_type": "slide"
    }
   },
   "source": [
    "## Our Approach: A Mixed Taxonomy\n",
    "\n",
    "Green activities from the EU taxonomy (we combine both green and enabling technologies, but exclude transitional activities)\n",
    "\n",
    "Our approach stops at the first stage: the **eligibility**\n",
    "\n",
    "We use the activites in oil, gas and coal as a stringent definition of brown activities\n"
   ]
  },
  {
   "cell_type": "markdown",
   "id": "dcaaf106",
   "metadata": {
    "slideshow": {
     "slide_type": "slide"
    }
   },
   "source": [
    "\n",
    "Examples of green technologies:\n",
    "\n",
    "- Electricity generation using solar photovoltaic technology\n",
    "- Production of heat/cool from bioenergy\n",
    "- Underground permanent geological storage of CO2\n",
    "\n",
    "Examples of brown technologies:\n",
    "\n",
    "- Oil & Gas Exploration & Production\n",
    "- Oil & Gas Storage & Transportation"
   ]
  },
  {
   "cell_type": "markdown",
   "id": "1dd6127a",
   "metadata": {
    "slideshow": {
     "slide_type": "slide"
    }
   },
   "source": [
    "# Using Business Description for a Firm-Level Estimate of Greeness"
   ]
  },
  {
   "cell_type": "markdown",
   "id": "722ec13f",
   "metadata": {
    "slideshow": {
     "slide_type": "slide"
    }
   },
   "source": [
    "## Embeddings with a Sentence Transformer Model\n",
    "\n",
    "We first need to **transform the business description and activities descriptiom from our taxonomy from unstructured data (text) into a numerical representation**\n",
    "\n",
    "We use a Sentence Transformer model to create **numerical vector representation** of the meanings of the business description\n"
   ]
  },
  {
   "cell_type": "markdown",
   "id": "f613f8d8",
   "metadata": {
    "slideshow": {
     "slide_type": "slide"
    }
   },
   "source": [
    "## Cosine Similarity\n",
    "\n",
    "We now have numerical vector representations of the business description and activities description\n",
    "\n",
    "We can apply principles from semantic search by determining the **closeness of our two vectors** with cosine similarity\n",
    "\n",
    "The closer the cosine similarity to 1 is, the more related the descriptions are"
   ]
  },
  {
   "cell_type": "markdown",
   "id": "3ae1cf4b",
   "metadata": {
    "slideshow": {
     "slide_type": "slide"
    }
   },
   "source": [
    "## Greeness Measure\n",
    "\n",
    "\n",
    "Finally, we adopt the following rule to attribute a *greeness* score to each issuer:\n",
    "\n",
    "1. If cosine similarity less or equal to 0.5, a 0 score is attributed to the issuer.\n",
    "\n",
    "2. If the activity for which the cosine similarity with the business description was the highest is among the brown activities a negative score is attributed. Otherwise the score is the cosine similarity.\n"
   ]
  },
  {
   "cell_type": "markdown",
   "id": "9367a9bd",
   "metadata": {
    "slideshow": {
     "slide_type": "slide"
    }
   },
   "source": [
    "![title](docs/source/results_greeness_measure.png)\n"
   ]
  },
  {
   "cell_type": "markdown",
   "id": "51dd41d4",
   "metadata": {
    "slideshow": {
     "slide_type": "slide"
    }
   },
   "source": [
    "# Transition Portfolio\n"
   ]
  },
  {
   "cell_type": "markdown",
   "id": "4a54a72d",
   "metadata": {
    "slideshow": {
     "slide_type": "slide"
    }
   },
   "source": [
    "## Transition Investing Objectives\n",
    "\n",
    "1. Minimizing the tracking error volatility risk and \n",
    "2. Improving the *greeness* of the portfolio version compared to the benchmark\n"
   ]
  },
  {
   "cell_type": "markdown",
   "id": "721d323e",
   "metadata": {
    "slideshow": {
     "slide_type": "slide"
    }
   },
   "source": [
    "![title](docs/source/weights_dev.png)\n"
   ]
  },
  {
   "cell_type": "markdown",
   "id": "650cd6cd",
   "metadata": {
    "slideshow": {
     "slide_type": "slide"
    }
   },
   "source": [
    "![title](docs/source/arbitrage.png)\n"
   ]
  },
  {
   "cell_type": "markdown",
   "id": "76fd9269",
   "metadata": {
    "slideshow": {
     "slide_type": "slide"
    }
   },
   "source": [
    "# Conclusion\n",
    "\n",
    "Net zero investing involves two objectives: **portfolio's decarbonization and transition to green activities**\n",
    "\n",
    "Paris-Aligned Benchmarks: falls short in addressing the second objective\n",
    "\n",
    "**Firm-level measure of greeness with a Natural Language Processing** approach in order to build a **transition portfolio**, following a mixed taxonomy\n",
    "\n",
    "Transition dimension can be addressed with the use of text-mining\n",
    "\n",
    "Transition dimension can be integrated into the construction of **net zero portfolio**, targeting both the decarbonization and the transition dimensions\n",
    "\n"
   ]
  }
 ],
 "metadata": {
  "celltoolbar": "Diaporama",
  "kernelspec": {
   "display_name": "Python 3 (ipykernel)",
   "language": "python",
   "name": "python3"
  },
  "language_info": {
   "codemirror_mode": {
    "name": "ipython",
    "version": 3
   },
   "file_extension": ".py",
   "mimetype": "text/x-python",
   "name": "python",
   "nbconvert_exporter": "python",
   "pygments_lexer": "ipython3",
   "version": "3.9.12"
  }
 },
 "nbformat": 4,
 "nbformat_minor": 5
}
